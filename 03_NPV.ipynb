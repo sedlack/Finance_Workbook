{
 "cells": [
  {
   "cell_type": "markdown",
   "id": "3d4ad1f1",
   "metadata": {},
   "source": [
    "# NPV - Net Present Value \n",
    " - This analysis attempts to discover whether a project is financially feasible by considereing the initial cost and the discounted present value of all associated cash flows. If the NPV vlaue is above 0, it indicates that the project could be financially reasonable at the specified discount rate."
   ]
  },
  {
   "cell_type": "markdown",
   "id": "35c0b393",
   "metadata": {},
   "source": [
    "### Import Required Packages"
   ]
  },
  {
   "cell_type": "code",
   "execution_count": 3,
   "id": "4789967c",
   "metadata": {},
   "outputs": [],
   "source": [
    "import matplotlib.pyplot as plt\n",
    "import numpy as np\n",
    "import numpy_financial as npf\n",
    "\n",
    "from NPV_Discount_Rate_Calculator import wacc_calc"
   ]
  },
  {
   "cell_type": "markdown",
   "id": "54253f0a",
   "metadata": {},
   "source": [
    "### Project Analysis"
   ]
  },
  {
   "cell_type": "code",
   "execution_count": 4,
   "id": "e0cb9972",
   "metadata": {},
   "outputs": [],
   "source": [
    "# Specify the estimated cash flows as a list, the cash flows can be estimated using various approaches\n",
    "cash_flows = [-100,20,20,20,20,20,20,20,20,20]"
   ]
  },
  {
   "cell_type": "markdown",
   "id": "fdd8de8a",
   "metadata": {},
   "source": [
    "### IRR"
   ]
  },
  {
   "cell_type": "code",
   "execution_count": 5,
   "id": "8a4337e4",
   "metadata": {},
   "outputs": [
    {
     "data": {
      "text/plain": [
       "0.13704474216582607"
      ]
     },
     "execution_count": 5,
     "metadata": {},
     "output_type": "execute_result"
    }
   ],
   "source": [
    "# Calculate the IRR - Internal Rate of Return or the rate at which NPV will break even given the CFs\n",
    "irr = npf.irr(cash_flows)\n",
    "irr"
   ]
  },
  {
   "cell_type": "markdown",
   "id": "b1632fcd",
   "metadata": {},
   "source": [
    "### Cost of Capital - Discount Rate"
   ]
  },
  {
   "cell_type": "code",
   "execution_count": 6,
   "id": "316cc366",
   "metadata": {},
   "outputs": [
    {
     "data": {
      "text/plain": [
       "0.116"
      ]
     },
     "execution_count": 6,
     "metadata": {},
     "output_type": "execute_result"
    }
   ],
   "source": [
    "# Use the custom WACC function to calculate the weighted average cost of capital\n",
    "\n",
    "# Specify the functions inputs\n",
    "current_debt_to_value = 0.40    \n",
    "unlevered_beta = 1.12\n",
    "tax_rate = 0.40\n",
    "rf_rate = 0.09\n",
    "market_premium = 0.045\n",
    "\n",
    "# Use the inputs to generate the functions results\n",
    "wacc = wacc_calc(current_debt_to_value,unlevered_beta, tax_rate, rf_rate, market_premium)\n",
    "\n",
    "round(wacc,3)"
   ]
  },
  {
   "cell_type": "markdown",
   "id": "7cce1940",
   "metadata": {},
   "source": [
    "### NPV - Net Present Value Calculation"
   ]
  },
  {
   "cell_type": "code",
   "execution_count": 7,
   "id": "de63850c",
   "metadata": {},
   "outputs": [],
   "source": [
    "# Specify the discount rate\n",
    "discount_rate = wacc\n",
    "\n",
    "# Calculate the investment period by finding the length of the cf list\n",
    "investment_period = len(cash_flows)\n",
    "\n",
    "# Discover the initial cost by isolating the first cash outflow\n",
    "initial_investment = cash_flows[0]"
   ]
  },
  {
   "cell_type": "code",
   "execution_count": 8,
   "id": "4601a53f",
   "metadata": {},
   "outputs": [],
   "source": [
    "# Calculate the NPV of the project by taking the sum of the initial expense and\n",
    "# all of the cash flows discounted to their present value.\n",
    "pv_cf = []\n",
    "period = []\n",
    "\n",
    "pv_cf.append(initial_investment)\n",
    "period.append(0)\n",
    "\n",
    "for i in range(1,investment_period):\n",
    "    pv_cf.append(cash_flows[i] / ((1+discount_rate)**i))\n",
    "    period.append(i)\n",
    "\n",
    "npv = sum(pv_cf)"
   ]
  },
  {
   "cell_type": "code",
   "execution_count": 9,
   "id": "fe5afb72",
   "metadata": {},
   "outputs": [
    {
     "data": {
      "text/plain": [
       "<matplotlib.legend.Legend at 0x21c6716e0b0>"
      ]
     },
     "execution_count": 9,
     "metadata": {},
     "output_type": "execute_result"
    },
    {
     "data": {
      "image/png": "[encoded data removed]",
      "text/plain": [
       "<Figure size 640x480 with 1 Axes>"
      ]
     },
     "metadata": {},
     "output_type": "display_data"
    }
   ],
   "source": [
    "# Visualize the Project over the years of investment\n",
    "pv_list = []\n",
    "\n",
    "for i, cf in enumerate(cash_flows):\n",
    "    pv_list.append(sum(pv_cf[:i+1]))\n",
    "    \n",
    "plt.plot(period, pv_list)\n",
    "plt.axhline(y = 0, color = 'r', linestyle = '--', label = \"break-even\")\n",
    "plt.legend(bbox_to_anchor = (0.5, 1))"
   ]
  }
 ],
 "metadata": {
  "kernelspec": {
   "display_name": "sand_box",
   "language": "python",
   "name": "sand_box"
  },
  "language_info": {
   "codemirror_mode": {
    "name": "ipython",
    "version": 3
   },
   "file_extension": ".py",
   "mimetype": "text/x-python",
   "name": "python",
   "nbconvert_exporter": "python",
   "pygments_lexer": "ipython3",
   "version": "3.10.11"
  }
 },
 "nbformat": 4,
 "nbformat_minor": 5
}

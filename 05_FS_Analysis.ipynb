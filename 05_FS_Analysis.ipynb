{
 "cells": [
  {
   "cell_type": "markdown",
   "id": "637e1459",
   "metadata": {},
   "source": [
    "# Automatic PDF Reader\n",
    "\n",
    "- Automatically read in a pdf financial statement with python\n",
    "\n",
    "- The financial statement used in this demonstration was randomly generated and exported as a pdf"
   ]
  },
  {
   "cell_type": "markdown",
   "id": "d6457288",
   "metadata": {},
   "source": [
    "### Import Required Packages"
   ]
  },
  {
   "cell_type": "code",
   "execution_count": 1,
   "id": "e37eef1b",
   "metadata": {},
   "outputs": [],
   "source": [
    "import pdfplumber\n",
    "import matplotlib.pyplot as plt\n",
    "import seaborn as sns\n",
    "import pandas as pd\n",
    "import numpy as np"
   ]
  },
  {
   "cell_type": "code",
   "execution_count": 2,
   "id": "ca9bbc83",
   "metadata": {},
   "outputs": [],
   "source": [
    "# Specify the financial statement file path\n",
    "pdf_file = 'Sample_Income_Statement.pdf'"
   ]
  },
  {
   "cell_type": "code",
   "execution_count": 3,
   "id": "3c56bc84",
   "metadata": {},
   "outputs": [],
   "source": [
    "# Extract the text from the specified pages\n",
    "with pdfplumber.open(pdf_file)as pdf:\n",
    "    page = pdf.pages[0]\n",
    "    text = page.extract_text()"
   ]
  },
  {
   "cell_type": "code",
   "execution_count": 4,
   "id": "0c17d056",
   "metadata": {},
   "outputs": [
    {
     "name": "stdout",
     "output_type": "stream",
     "text": [
      "Income Statement\n",
      "Base Rental Income 19700\n",
      "CAM Reimbursement 100\n",
      "Vacancy Loss 1500\n",
      "Gross Income 18300\n",
      "Property Management Fee 800\n",
      "Property Taxes 500\n",
      "Depreciation 3000\n",
      "Interest Expense 700\n",
      "Capital Expenditures 8000\n",
      "Utilities 150\n",
      "Total Expenses 13150\n",
      "Net Income 5150\n"
     ]
    }
   ],
   "source": [
    "# Display the text from the income statement\n",
    "print(text)"
   ]
  },
  {
   "cell_type": "code",
   "execution_count": 5,
   "id": "882e6b4c",
   "metadata": {},
   "outputs": [
    {
     "data": {
      "text/plain": [
       "['Income Statement',\n",
       " 'Base Rental Income 19700',\n",
       " 'CAM Reimbursement 100',\n",
       " 'Vacancy Loss 1500',\n",
       " 'Gross Income 18300',\n",
       " 'Property Management Fee 800',\n",
       " 'Property Taxes 500',\n",
       " 'Depreciation 3000',\n",
       " 'Interest Expense 700',\n",
       " 'Capital Expenditures 8000',\n",
       " 'Utilities 150',\n",
       " 'Total Expenses 13150',\n",
       " 'Net Income 5150']"
      ]
     },
     "execution_count": 5,
     "metadata": {},
     "output_type": "execute_result"
    }
   ],
   "source": [
    "# Convert the text to a list object\n",
    "text = text.split('\\n')\n",
    "text"
   ]
  },
  {
   "cell_type": "code",
   "execution_count": 6,
   "id": "df881a35",
   "metadata": {},
   "outputs": [
    {
     "name": "stdout",
     "output_type": "stream",
     "text": [
      "The base rent reported was $19700\n"
     ]
    }
   ],
   "source": [
    "# Find the the Base Rent\n",
    "for row in text:\n",
    "    if 'Base Rental Income' in row:\n",
    "        base_rent = row.split()[-1]\n",
    "    elif 'Base Rent' in row:\n",
    "        base_rent = row.split()[-1]\n",
    "    elif 'Potential Rent' in row:\n",
    "        base_rent = row.split()[-1]\n",
    "base_rent = int(base_rent)\n",
    "\n",
    "print(f'The base rent reported was ${base_rent}')"
   ]
  },
  {
   "cell_type": "code",
   "execution_count": 7,
   "id": "d0e6613c",
   "metadata": {},
   "outputs": [
    {
     "name": "stdout",
     "output_type": "stream",
     "text": [
      "Total profit reported was $5150\n"
     ]
    }
   ],
   "source": [
    "# Find the the Net Profit\n",
    "for row in text:\n",
    "    if 'Operating Profit' in row:\n",
    "        profit = row.split()[-1]\n",
    "    elif 'Net Income' in row:\n",
    "        profit = row.split()[-1]\n",
    "profit = int(profit)\n",
    "\n",
    "print(f'Total profit reported was ${profit}')"
   ]
  },
  {
   "cell_type": "code",
   "execution_count": 8,
   "id": "2658c392",
   "metadata": {},
   "outputs": [
    {
     "name": "stdout",
     "output_type": "stream",
     "text": [
      "Total NOI calculated was $16850\n"
     ]
    }
   ],
   "source": [
    "#Find and add back non-operating expenses\n",
    "total_non_operating_expenses = 0\n",
    "\n",
    "for row in text:\n",
    "    if 'Interest' in row:\n",
    "        int_expense = int(row.split()[-1])\n",
    "        total_non_operating_expenses += int_expense\n",
    "        \n",
    "    if 'Depreciation' in row:\n",
    "        dep_expense = int(row.split()[-1])\n",
    "        total_non_operating_expenses += dep_expense\n",
    "        \n",
    "    if 'Capital Expenditures' in row:\n",
    "        capex = int(row.split()[-1])       \n",
    "        total_non_operating_expenses += capex\n",
    "\n",
    "NOI = profit + total_non_operating_expenses\n",
    "print(f'Total NOI calculated was ${NOI}')"
   ]
  },
  {
   "cell_type": "code",
   "execution_count": 10,
   "id": "39df6c8f",
   "metadata": {},
   "outputs": [
    {
     "data": {
      "text/plain": [
       "<BarContainer object of 3 artists>"
      ]
     },
     "execution_count": 10,
     "metadata": {},
     "output_type": "execute_result"
    },
    {
     "data": {
      "image/png": "[encoded data removed]",
      "text/plain": [
       "<Figure size 640x480 with 1 Axes>"
      ]
     },
     "metadata": {},
     "output_type": "display_data"
    }
   ],
   "source": [
    "# Visualize values\n",
    "df = pd.DataFrame()\n",
    "category = ['Base Rent','NOI', 'Profit']\n",
    "value = [base_rent, NOI, profit]\n",
    "df['Category'] = category\n",
    "df['AMT'] = value\n",
    "\n",
    "plt.bar(data = df, height = 'AMT', x= 'Category',color=['red', 'green', 'blue'], \n",
    "        width=0.7, alpha=0.5)"
   ]
  }
 ],
 "metadata": {
  "kernelspec": {
   "display_name": "sand_box",
   "language": "python",
   "name": "sand_box"
  },
  "language_info": {
   "codemirror_mode": {
    "name": "ipython",
    "version": 3
   },
   "file_extension": ".py",
   "mimetype": "text/x-python",
   "name": "python",
   "nbconvert_exporter": "python",
   "pygments_lexer": "ipython3",
   "version": "3.10.11"
  }
 },
 "nbformat": 4,
 "nbformat_minor": 5
}

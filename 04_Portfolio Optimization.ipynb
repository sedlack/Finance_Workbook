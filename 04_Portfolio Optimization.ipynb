{
 "cells": [
  {
   "cell_type": "markdown",
   "id": "d2ab01c8",
   "metadata": {},
   "source": [
    "# Portfolio Optimization\n",
    "\n",
    "- Based on modern portfolio theory, this optimization technique attempts to maximize the Sharpe ratio by achieving the maximum return per unit of risk incurred as measured in stock volatility. There are two types of risk associated with a stock, one being systematic risk that is inherent with the market as a whole and another being unsystematic risk or company specific risk which can be potentially mitigated through diversification. The portfolio theory utilizes this intuition and attempts to mitigate the unsystematic risk by combining different positions that are not correlated with one another.\n",
    "\n",
    "### - Note: The stocks and process used in this demonstration are in no way financial advice. Additionally there is no guarantee of accuracy related to the data imported from the yfinance package."
   ]
  },
  {
   "cell_type": "markdown",
   "id": "8e08780f",
   "metadata": {},
   "source": [
    "### Import Required Packages "
   ]
  },
  {
   "cell_type": "code",
   "execution_count": 82,
   "id": "6c43934a",
   "metadata": {},
   "outputs": [],
   "source": [
    "import pandas as pd\n",
    "import numpy as np\n",
    "import statistics as stat\n",
    "from matplotlib import pyplot as plt\n",
    "\n",
    "import pyfolio as pf\n",
    "import yfinance as yf\n",
    "from itertools import combinations\n",
    "\n",
    "import warnings\n",
    "warnings.filterwarnings(\"ignore\")"
   ]
  },
  {
   "cell_type": "markdown",
   "id": "1f0f0806",
   "metadata": {},
   "source": [
    "### Portfolio Optimization"
   ]
  },
  {
   "cell_type": "code",
   "execution_count": 83,
   "id": "5d625ff8",
   "metadata": {},
   "outputs": [],
   "source": [
    "# List the stock tickers in a porfolio to be analyzed\n",
    "# The stock selection below is just for demonstation and should not be considered as advise\n",
    "stock_list = ['AAPL', 'NKE', 'WMT', 'META']\n",
    "\n",
    "# Find the size of the portfolio, save as a variable\n",
    "portfolio_count = len(stock_list)"
   ]
  },
  {
   "cell_type": "markdown",
   "id": "711b5a64",
   "metadata": {},
   "source": [
    "### Variance and Standard Deviation"
   ]
  },
  {
   "cell_type": "code",
   "execution_count": 84,
   "id": "253b3f99",
   "metadata": {},
   "outputs": [],
   "source": [
    "# Create empty lists to store tha values generated within the for loop\n",
    "return_list = []\n",
    "annual_return_list = []\n",
    "std_dev_list = []\n",
    "annual_std_list = []\n",
    "\n",
    "\n",
    "# For every stock in the stock portfolio\n",
    "for i in range(0,portfolio_count,1):\n",
    "    # Import stock data\n",
    "    stock_name = stock_list[i]\n",
    "    ticker = yf.Ticker(stock_name)\n",
    "    history_info = ticker.history(period = '100mo')\n",
    "    history_info['daily_returns'] = history_info['Close'].pct_change()\n",
    "    history_info = history_info.iloc[1:]\n",
    "    \n",
    "    # Obtain returns\n",
    "    returns = history_info['daily_returns'].values\n",
    "\n",
    "    # Find total Return\n",
    "    total_return = sum(returns)\n",
    "\n",
    "    # Average Return\n",
    "    avg_return = total_return / (len(returns) - 1)\n",
    "\n",
    "    # Average Annual Return\n",
    "    Avg_annual_return = avg_return * 12\n",
    "    \n",
    "    annual_return_list.append(Avg_annual_return)\n",
    "    return_list.append(returns)\n",
    "    \n",
    "    \n",
    "    # Variance\n",
    "    variance = stat.variance(returns)\n",
    "\n",
    "    # Standard Deviation\n",
    "    st_dev = np.sqrt(variance)\n",
    "\n",
    "    # Annual Standard Deviation\n",
    "    annual_st_dev = st_dev * 12\n",
    "    \n",
    "    std_dev_list.append(st_dev)\n",
    "    annual_std_list.append(annual_st_dev)"
   ]
  },
  {
   "cell_type": "markdown",
   "id": "40ce45cb",
   "metadata": {},
   "source": [
    "### Covariance"
   ]
  },
  {
   "cell_type": "code",
   "execution_count": 85,
   "id": "234c1b98",
   "metadata": {},
   "outputs": [],
   "source": [
    "# Create an empty dataframe to store the return matrix\n",
    "return_df = pd.DataFrame()\n",
    "\n",
    "i = 0\n",
    "for stock in stock_list:\n",
    "    return_df[stock] = return_list[i]\n",
    "    i = i + 1\n",
    "    \n",
    "    \n",
    "# Calculate the covariance\n",
    "covariance_df = return_df.cov()\n",
    "covariance_df\n",
    "\n",
    "\n",
    "# Discover the number of possible combinations for the specified portfolio\n",
    "num_list = []\n",
    "for i in range(0,portfolio_count,1):\n",
    "    num_list.append(i)\n",
    "iter_combos = list(combinations(num_list, 2))\n",
    "\n",
    "# Generate the possible combinations\n",
    "combos = []\n",
    "for combo in iter_combos:\n",
    "    z = list(combo)\n",
    "    combos.append(z)\n",
    "    \n",
    "# Generate a list that specifies the covariance for each combination discovered\n",
    "cov_list = []\n",
    "for c in combos:\n",
    "    cov_list.append(covariance_df.iloc[c[0],c[1]])"
   ]
  },
  {
   "cell_type": "markdown",
   "id": "2e74272b",
   "metadata": {},
   "source": [
    "### Portfolio Weight Simulation"
   ]
  },
  {
   "cell_type": "code",
   "execution_count": 86,
   "id": "1cb3b56c",
   "metadata": {},
   "outputs": [],
   "source": [
    "# Specify the number of simulated portfolios to test and set random seed\n",
    "np.random.seed(seed=42)\n",
    "num_portfolios = 1000000\n",
    "\n",
    "# Establish empty lists to store generated values\n",
    "portfolio_return = []\n",
    "portfolio_dev = []\n",
    "weight_history = []\n",
    "\n",
    "for i in range (0,num_portfolios,1):\n",
    "    # Genrate random weights for each portfolio combination tested\n",
    "    weights = np.array(np.random.random(portfolio_count))\n",
    "    \n",
    "    # Normalize the weights to total 100%\n",
    "    weights = weights / np.sum(weights)\n",
    "    weight_history.append(weights)\n",
    "    \n",
    "    # Expected Return\n",
    "    # Initialize the expected return variable\n",
    "    exp_return = 0\n",
    "    for i in range(0, portfolio_count,1):\n",
    "        # Calculate the total expected return for all of the stocks and their weights\n",
    "        incremental_return = ((weights[i] * annual_return_list[i]))\n",
    "        # Combine all of the stocks expected returns\n",
    "        exp_return = exp_return + incremental_return\n",
    "    \n",
    "    \n",
    "    # Portfolio Standard Deviation\n",
    "    st_dev = 0\n",
    "    var = 0\n",
    "    \n",
    "    # Calculate the variance associated with each stock individually\n",
    "    for i in range(0, portfolio_count,1):\n",
    "        var_increment_1 = (weights[i] * annual_std_list[i]) ** 2\n",
    "        var = var + var_increment_1\n",
    "        \n",
    "    \n",
    "    # Calculate the variance associated with the discovered covariance combinations\n",
    "    i = 0\n",
    "    for combo in combos: \n",
    "        var_increment_2 = 2 * weights[combo[0]] * weights[combo[1]] * cov_list[i]\n",
    "        i = i + 1\n",
    "        var = var + var_increment_2\n",
    "        \n",
    "    st_dev = np.sqrt(var)\n",
    "    \n",
    "    \n",
    "    # Append the calculated values to the previosly established lists\n",
    "    portfolio_return.append(exp_return)\n",
    "    portfolio_dev.append(st_dev)\n"
   ]
  },
  {
   "cell_type": "markdown",
   "id": "c4d430e7",
   "metadata": {},
   "source": [
    "### Portfolio Analysis"
   ]
  },
  {
   "cell_type": "code",
   "execution_count": 87,
   "id": "30c8f3f8",
   "metadata": {},
   "outputs": [],
   "source": [
    "# Optimal Portfolio based on the Sharpe Ratio\n",
    "# Sharpe Ratio\n",
    "sharpe_ratio = pd.DataFrame({'exp_return': portfolio_return , 'standard_dev': portfolio_dev})\n",
    "sharpe_ratio['sr'] = sharpe_ratio['exp_return'] / sharpe_ratio['standard_dev']\n",
    "\n",
    "# Discover the optimal portfolio defined as the weight combination that generated the lowest SR\n",
    "optimal_portfolio = sharpe_ratio.sort_values(by=['sr'], ascending=False).reset_index()\n",
    "optimal_portfolio = optimal_portfolio[['exp_return', 'standard_dev', 'sr']]\n",
    "optimal_ret = optimal_portfolio['exp_return'][0]\n",
    "optimal_sd = optimal_portfolio['standard_dev'][0]\n",
    "\n",
    "# Discover the weights used\n",
    "optimal_index = portfolio_return.index(optimal_ret)\n",
    "weights_opt = weight_history[optimal_index]"
   ]
  },
  {
   "cell_type": "code",
   "execution_count": 88,
   "id": "3ea52c34",
   "metadata": {},
   "outputs": [],
   "source": [
    "# Minimum Risk Portfolio based on standard deviation\n",
    "min_risk = pd.DataFrame({'exp_return': portfolio_return , 'standard_dev': portfolio_dev})\n",
    "min_risk = min_risk.sort_values(by=['standard_dev'], ascending=True).reset_index()\n",
    "min_risk = min_risk[['exp_return', 'standard_dev']]\n",
    "min_ret = min_risk['exp_return'][0]\n",
    "min_sd = min_risk['standard_dev'][0]\n",
    "\n",
    "# Discover the weights used\n",
    "min_index = portfolio_return.index(min_ret)\n",
    "weights_min = weight_history[min_index]"
   ]
  },
  {
   "cell_type": "markdown",
   "id": "73e5a5ee",
   "metadata": {},
   "source": [
    "### Efficiancy Frontier Visualization"
   ]
  },
  {
   "cell_type": "code",
   "execution_count": 89,
   "id": "acd0ff0f",
   "metadata": {},
   "outputs": [
    {
     "data": {
      "image/png": "[encoded data removed]",
      "text/plain": [
       "<Figure size 640x480 with 1 Axes>"
      ]
     },
     "metadata": {},
     "output_type": "display_data"
    }
   ],
   "source": [
    "plt.title(\"Efficiency Frontier\", fontsize=24, color='blue')\n",
    "plt.xlabel(\"St. Deviation\", fontsize=10, color='green')\n",
    "plt.ylabel(\"Expected Return\", fontsize=10, color='green')\n",
    "\n",
    "plt.scatter(portfolio_dev, portfolio_return)\n",
    "\n",
    "# Indicate the optimal and minimum risk portfolios\n",
    "plt.plot(optimal_sd, optimal_ret, marker='*', markersize=10, markeredgecolor=\"red\", markerfacecolor=\"green\")\n",
    "plt.plot(min_sd, min_ret, marker='o', markersize=10, markeredgecolor=\"red\", markerfacecolor=\"green\")\n",
    "\n",
    "plt.show()"
   ]
  },
  {
   "cell_type": "markdown",
   "id": "f6685bf5",
   "metadata": {},
   "source": [
    "### Discover the values associated with the weights"
   ]
  },
  {
   "cell_type": "code",
   "execution_count": 90,
   "id": "bc23ce2d",
   "metadata": {},
   "outputs": [],
   "source": [
    "# Establish the total amount invested\n",
    "total_invested = 1000"
   ]
  },
  {
   "cell_type": "code",
   "execution_count": 94,
   "id": "09119288",
   "metadata": {},
   "outputs": [
    {
     "name": "stdout",
     "output_type": "stream",
     "text": [
      "AAPL: 364.8\n",
      "NKE: 203.85\n",
      "WMT: 258.9\n",
      "META: 172.45\n"
     ]
    }
   ],
   "source": [
    "# Display the rounded weights for each stock in the optimal portfolio\n",
    "for i, stock in enumerate(stock_list):  \n",
    "    amount = weights_opt[i] * total_invested\n",
    "    print(f'{stock}: {amount.round(2)}')"
   ]
  },
  {
   "cell_type": "code",
   "execution_count": 95,
   "id": "debe2445",
   "metadata": {},
   "outputs": [
    {
     "name": "stdout",
     "output_type": "stream",
     "text": [
      "AAPL: 226.22\n",
      "NKE: 224.34\n",
      "WMT: 414.93\n",
      "META: 134.5\n"
     ]
    }
   ],
   "source": [
    "# Display the rounded weights for each stock in the min risk portfolio\n",
    "for i, stock in enumerate(stock_list):  \n",
    "    amount = weights_min[i] * total_invested\n",
    "    print(f'{stock}: {amount.round(2)}')"
   ]
  }
 ],
 "metadata": {
  "kernelspec": {
   "display_name": "sand_box",
   "language": "python",
   "name": "sand_box"
  },
  "language_info": {
   "codemirror_mode": {
    "name": "ipython",
    "version": 3
   },
   "file_extension": ".py",
   "mimetype": "text/x-python",
   "name": "python",
   "nbconvert_exporter": "python",
   "pygments_lexer": "ipython3",
   "version": "3.10.11"
  }
 },
 "nbformat": 4,
 "nbformat_minor": 5
}

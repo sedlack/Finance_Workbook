{
 "cells": [
  {
   "cell_type": "markdown",
   "id": "6fd61a09",
   "metadata": {},
   "source": [
    "# WACC Calculation - Weighted Average Cost of Capital\n",
    "- In this analysis, the WACC of a ficticious company has been calculated across various debt to equity ratios and and a final optimal capital structure has been determined"
   ]
  },
  {
   "cell_type": "markdown",
   "id": "247c9003",
   "metadata": {},
   "source": [
    "### Import Required Packages"
   ]
  },
  {
   "cell_type": "code",
   "execution_count": 1,
   "id": "725b75ac",
   "metadata": {},
   "outputs": [],
   "source": [
    "import pandas as pd\n",
    "import numpy as np\n",
    "from matplotlib import pyplot as plt\n",
    "import seaborn as sns"
   ]
  },
  {
   "cell_type": "markdown",
   "id": "fd666673",
   "metadata": {},
   "source": [
    "### WACC Calculation"
   ]
  },
  {
   "cell_type": "code",
   "execution_count": 2,
   "id": "84820d1b",
   "metadata": {},
   "outputs": [],
   "source": [
    "# Comapny specific settings - to be updated manually\n",
    "\n",
    "current_debt_to_value = 0.40\n",
    "unlevered_beta = 1.12\n",
    "tax_rate = 0.40\n",
    "rf_rate = 0.05\n",
    "market_premium = 0.050"
   ]
  },
  {
   "cell_type": "code",
   "execution_count": 3,
   "id": "71043a9b",
   "metadata": {},
   "outputs": [],
   "source": [
    "# Create two lists one containing the debt to value, and the other containing debt to equity for every\n",
    "# Percentage point possible (0-100)\n",
    "\n",
    "debt_to_value = []\n",
    "debt_to_equity = []\n",
    "\n",
    "for i in range(0,100,1):\n",
    "    # Debt to value calculation\n",
    "    d_v = i / 100\n",
    "    debt_to_value.append(d_v)\n",
    "    \n",
    "    # Debt to equity calculation\n",
    "    d_e = 1 / (1 - d_v) - 1\n",
    "    debt_to_equity.append(d_e)"
   ]
  },
  {
   "cell_type": "code",
   "execution_count": 4,
   "id": "bf10bcc5",
   "metadata": {},
   "outputs": [],
   "source": [
    "# The previously created lists are stored in a dataframe for easier calculation\n",
    "wacc_df = pd.DataFrame({'debt_to_value': debt_to_value, 'debt_to_equity': debt_to_equity})"
   ]
  },
  {
   "cell_type": "code",
   "execution_count": 5,
   "id": "d7b15088",
   "metadata": {},
   "outputs": [],
   "source": [
    "# Levered beta is calculated across each stage of debt to equity and add the value to the dataframe\n",
    "wacc_df['leveraged_beta'] = unlevered_beta * (1 + (1 - tax_rate) * wacc_df['debt_to_equity'])"
   ]
  },
  {
   "cell_type": "code",
   "execution_count": 7,
   "id": "ca794c03",
   "metadata": {},
   "outputs": [],
   "source": [
    "# Cost of equity\n",
    "wacc_df['cost_of_equity'] = rf_rate + wacc_df['leveraged_beta'] * market_premium"
   ]
  },
  {
   "cell_type": "code",
   "execution_count": 8,
   "id": "1c77aa09",
   "metadata": {},
   "outputs": [],
   "source": [
    "# Cost of debt, (the cost of debt typically increases at the higher levels of debt to value)\n",
    "c_d = []\n",
    "\n",
    "for i in range(0,100,1):\n",
    "    d_v = i / 100\n",
    "    \n",
    "    if d_v <= 0.10:\n",
    "        c_d.append(.052)\n",
    "        \n",
    "    elif d_v <= 0.20:\n",
    "        c_d.append(.0625)\n",
    "    \n",
    "    elif d_v <= 0.30:\n",
    "        c_d.append(.0650)\n",
    "        \n",
    "    elif d_v <= 0.40:\n",
    "        c_d.append(.0825)\n",
    "        \n",
    "    elif d_v <= 0.50:\n",
    "        c_d.append(.10)\n",
    "\n",
    "    elif d_v <= 0.60:\n",
    "        c_d.append(.10)\n",
    "        \n",
    "    else:\n",
    "        c_d.append(.125)\n",
    "\n",
    "wacc_df['cost_of_debt'] = c_d"
   ]
  },
  {
   "cell_type": "code",
   "execution_count": 9,
   "id": "7d766189",
   "metadata": {},
   "outputs": [],
   "source": [
    "# Combine the various cost of equity and cost of debt values to obtain the WACC values\n",
    "wacc_df['wacc'] = ((1 - wacc_df['debt_to_value']) * wacc_df['cost_of_equity'] + \n",
    "                   (1 - tax_rate) * wacc_df['cost_of_debt'] * wacc_df['debt_to_value'])"
   ]
  },
  {
   "cell_type": "code",
   "execution_count": 10,
   "id": "cb66a04f",
   "metadata": {},
   "outputs": [
    {
     "data": {
      "text/html": [
       "<div>\n",
       "<style scoped>\n",
       "    .dataframe tbody tr th:only-of-type {\n",
       "        vertical-align: middle;\n",
       "    }\n",
       "\n",
       "    .dataframe tbody tr th {\n",
       "        vertical-align: top;\n",
       "    }\n",
       "\n",
       "    .dataframe thead th {\n",
       "        text-align: right;\n",
       "    }\n",
       "</style>\n",
       "<table border=\"1\" class=\"dataframe\">\n",
       "  <thead>\n",
       "    <tr style=\"text-align: right;\">\n",
       "      <th></th>\n",
       "      <th>debt_to_value</th>\n",
       "      <th>debt_to_equity</th>\n",
       "      <th>leveraged_beta</th>\n",
       "      <th>cost_of_equity</th>\n",
       "      <th>cost_of_debt</th>\n",
       "      <th>wacc</th>\n",
       "    </tr>\n",
       "  </thead>\n",
       "  <tbody>\n",
       "    <tr>\n",
       "      <th>0</th>\n",
       "      <td>0.00</td>\n",
       "      <td>0.000000</td>\n",
       "      <td>1.120000</td>\n",
       "      <td>0.106000</td>\n",
       "      <td>0.052</td>\n",
       "      <td>0.106000</td>\n",
       "    </tr>\n",
       "    <tr>\n",
       "      <th>1</th>\n",
       "      <td>0.01</td>\n",
       "      <td>0.010101</td>\n",
       "      <td>1.126788</td>\n",
       "      <td>0.106339</td>\n",
       "      <td>0.052</td>\n",
       "      <td>0.105588</td>\n",
       "    </tr>\n",
       "    <tr>\n",
       "      <th>2</th>\n",
       "      <td>0.02</td>\n",
       "      <td>0.020408</td>\n",
       "      <td>1.133714</td>\n",
       "      <td>0.106686</td>\n",
       "      <td>0.052</td>\n",
       "      <td>0.105176</td>\n",
       "    </tr>\n",
       "    <tr>\n",
       "      <th>3</th>\n",
       "      <td>0.03</td>\n",
       "      <td>0.030928</td>\n",
       "      <td>1.140784</td>\n",
       "      <td>0.107039</td>\n",
       "      <td>0.052</td>\n",
       "      <td>0.104764</td>\n",
       "    </tr>\n",
       "    <tr>\n",
       "      <th>4</th>\n",
       "      <td>0.04</td>\n",
       "      <td>0.041667</td>\n",
       "      <td>1.148000</td>\n",
       "      <td>0.107400</td>\n",
       "      <td>0.052</td>\n",
       "      <td>0.104352</td>\n",
       "    </tr>\n",
       "    <tr>\n",
       "      <th>...</th>\n",
       "      <td>...</td>\n",
       "      <td>...</td>\n",
       "      <td>...</td>\n",
       "      <td>...</td>\n",
       "      <td>...</td>\n",
       "      <td>...</td>\n",
       "    </tr>\n",
       "    <tr>\n",
       "      <th>95</th>\n",
       "      <td>0.95</td>\n",
       "      <td>19.000000</td>\n",
       "      <td>13.888000</td>\n",
       "      <td>0.744400</td>\n",
       "      <td>0.125</td>\n",
       "      <td>0.108470</td>\n",
       "    </tr>\n",
       "    <tr>\n",
       "      <th>96</th>\n",
       "      <td>0.96</td>\n",
       "      <td>24.000000</td>\n",
       "      <td>17.248000</td>\n",
       "      <td>0.912400</td>\n",
       "      <td>0.125</td>\n",
       "      <td>0.108496</td>\n",
       "    </tr>\n",
       "    <tr>\n",
       "      <th>97</th>\n",
       "      <td>0.97</td>\n",
       "      <td>32.333333</td>\n",
       "      <td>22.848000</td>\n",
       "      <td>1.192400</td>\n",
       "      <td>0.125</td>\n",
       "      <td>0.108522</td>\n",
       "    </tr>\n",
       "    <tr>\n",
       "      <th>98</th>\n",
       "      <td>0.98</td>\n",
       "      <td>49.000000</td>\n",
       "      <td>34.048000</td>\n",
       "      <td>1.752400</td>\n",
       "      <td>0.125</td>\n",
       "      <td>0.108548</td>\n",
       "    </tr>\n",
       "    <tr>\n",
       "      <th>99</th>\n",
       "      <td>0.99</td>\n",
       "      <td>99.000000</td>\n",
       "      <td>67.648000</td>\n",
       "      <td>3.432400</td>\n",
       "      <td>0.125</td>\n",
       "      <td>0.108574</td>\n",
       "    </tr>\n",
       "  </tbody>\n",
       "</table>\n",
       "<p>100 rows × 6 columns</p>\n",
       "</div>"
      ],
      "text/plain": [
       "    debt_to_value  debt_to_equity  leveraged_beta  cost_of_equity  \\\n",
       "0            0.00        0.000000        1.120000        0.106000   \n",
       "1            0.01        0.010101        1.126788        0.106339   \n",
       "2            0.02        0.020408        1.133714        0.106686   \n",
       "3            0.03        0.030928        1.140784        0.107039   \n",
       "4            0.04        0.041667        1.148000        0.107400   \n",
       "..            ...             ...             ...             ...   \n",
       "95           0.95       19.000000       13.888000        0.744400   \n",
       "96           0.96       24.000000       17.248000        0.912400   \n",
       "97           0.97       32.333333       22.848000        1.192400   \n",
       "98           0.98       49.000000       34.048000        1.752400   \n",
       "99           0.99       99.000000       67.648000        3.432400   \n",
       "\n",
       "    cost_of_debt      wacc  \n",
       "0          0.052  0.106000  \n",
       "1          0.052  0.105588  \n",
       "2          0.052  0.105176  \n",
       "3          0.052  0.104764  \n",
       "4          0.052  0.104352  \n",
       "..           ...       ...  \n",
       "95         0.125  0.108470  \n",
       "96         0.125  0.108496  \n",
       "97         0.125  0.108522  \n",
       "98         0.125  0.108548  \n",
       "99         0.125  0.108574  \n",
       "\n",
       "[100 rows x 6 columns]"
      ]
     },
     "execution_count": 10,
     "metadata": {},
     "output_type": "execute_result"
    }
   ],
   "source": [
    "# Visualize the resulting dataframe\n",
    "wacc_df"
   ]
  },
  {
   "cell_type": "markdown",
   "id": "092d7dae",
   "metadata": {},
   "source": [
    "### Discovering the Optimal Debt to Value Ratio"
   ]
  },
  {
   "cell_type": "code",
   "execution_count": 11,
   "id": "ec54c3d6",
   "metadata": {},
   "outputs": [
    {
     "name": "stdout",
     "output_type": "stream",
     "text": [
      "30    0.09598\n",
      "Name: wacc, dtype: float64\n"
     ]
    }
   ],
   "source": [
    "# Discover what the minimal weighted average cost of capital would theoretically be\n",
    "min_cost = wacc_df[wacc_df['wacc'] == wacc_df['wacc'].min()]\n",
    "\n",
    "print(min_cost['wacc'])"
   ]
  },
  {
   "cell_type": "code",
   "execution_count": 13,
   "id": "fc3898f0",
   "metadata": {},
   "outputs": [],
   "source": [
    "# Depending on the specific requirements, a reduction of debt from the minimum cost can be used \n",
    "# in order to be more conservative in borrowing in the case of undue circumstances\n",
    "\n",
    "debt_ratio_reduction = 0.05\n",
    "\n",
    "optimal_line = min_cost['debt_to_value'].unique()[0] - debt_ratio_reduction"
   ]
  },
  {
   "cell_type": "code",
   "execution_count": 16,
   "id": "a8226a45",
   "metadata": {},
   "outputs": [
    {
     "data": {
      "image/png": "[encoded data removed]",
      "text/plain": [
       "<Figure size 800x400 with 1 Axes>"
      ]
     },
     "metadata": {},
     "output_type": "display_data"
    }
   ],
   "source": [
    "# Visualize the cost of capital across the various levels of debt financing\n",
    "\n",
    "# Set plot size\n",
    "sns.set(rc={'figure.figsize':(8,4)})\n",
    "plt.ylim(0,0.15)\n",
    "\n",
    "# Plot the various cost of capital values across different levels of borrowing\n",
    "plt.plot(wacc_df['debt_to_value'], wacc_df['wacc'])\n",
    "\n",
    "# Plot a vertical line at the lowest cost of capital and set as the maximum D_V\n",
    "min_line = min_cost['debt_to_value'].unique()[0]\n",
    "plt.axvline(min_line, color='red', linestyle = '--',\n",
    "            label = 'Max D_V: ' + str(min_line))\n",
    "\n",
    "# Plot a vertical line at the previously established optimal level of debt\n",
    "plt.axvline(optimal_line, color='green', linestyle = '--',\n",
    "            label = 'Optimal D_V: ' + str(optimal_line))\n",
    "\n",
    "# Plot a vertical line at the current WACC\n",
    "plt.axvline(current_debt_to_value, color='blue', linestyle = '--', \n",
    "            label = 'Current D_V: ' + str(current_debt_to_value))\n",
    "\n",
    "\n",
    "plt.legend(loc=\"lower right\")\n",
    "plt.show()"
   ]
  }
 ],
 "metadata": {
  "kernelspec": {
   "display_name": "sand_box",
   "language": "python",
   "name": "sand_box"
  },
  "language_info": {
   "codemirror_mode": {
    "name": "ipython",
    "version": 3
   },
   "file_extension": ".py",
   "mimetype": "text/x-python",
   "name": "python",
   "nbconvert_exporter": "python",
   "pygments_lexer": "ipython3",
   "version": "3.10.11"
  }
 },
 "nbformat": 4,
 "nbformat_minor": 5
}
